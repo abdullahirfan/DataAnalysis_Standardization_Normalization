{
 "cells": [
  {
   "cell_type": "code",
   "execution_count": 2,
   "metadata": {},
   "outputs": [],
   "source": [
    "import pandas as pd\n",
    "from scipy import stats\n",
    "import numpy as np\n",
    "\n",
    "df_red_wine = pd.read_csv('C:/Users/User/Documents/Python Scripts/winequality-red.csv', sep = ';', header = 0)\n",
    "\n",
    "ten_rows= df_red_wine[:10] \n"
   ]
  },
  {
   "cell_type": "code",
   "execution_count": 3,
   "metadata": {},
   "outputs": [
    {
     "name": "stdout",
     "output_type": "stream",
     "text": [
      "         0         1         2         3         4      5         6   \\\n",
      "0  0.025641  0.700000  0.000000  0.142857  0.333333  0.125  0.190476   \n",
      "1  0.128205  1.000000  0.000000  0.285714  1.000000  1.000  0.583333   \n",
      "2  0.128205  0.800000  0.071429  0.224490  0.818182  0.375  0.428571   \n",
      "3  1.000000  0.000000  1.000000  0.142857  0.303030  0.500  0.500000   \n",
      "4  0.025641  0.700000  0.000000  0.142857  0.333333  0.125  0.190476   \n",
      "5  0.025641  0.633333  0.000000  0.122449  0.303030  0.250  0.261905   \n",
      "6  0.153846  0.533333  0.107143  0.081633  0.121212  0.375  0.488095   \n",
      "7  0.000000  0.616667  0.000000  0.000000  0.000000  0.375  0.035714   \n",
      "8  0.128205  0.500000  0.035714  0.163265  0.242424  0.000  0.000000   \n",
      "9  0.051282  0.366667  0.642857  1.000000  0.181818  0.500  1.000000   \n",
      "\n",
      "         7         8         9         10   11  \n",
      "0  0.941176  1.000000  0.294118  0.000000  0.0  \n",
      "1  0.647059  0.114286  0.647059  0.363636  0.0  \n",
      "2  0.705882  0.285714  0.558824  0.363636  0.0  \n",
      "3  1.000000  0.000000  0.352941  0.363636  0.5  \n",
      "4  0.941176  1.000000  0.294118  0.000000  0.0  \n",
      "5  0.941176  1.000000  0.294118  0.000000  0.0  \n",
      "6  0.529412  0.400000  0.000000  0.000000  0.0  \n",
      "7  0.000000  0.657143  0.029412  0.545455  1.0  \n",
      "8  0.647059  0.571429  0.323529  0.090909  1.0  \n",
      "9  0.941176  0.542857  1.000000  1.000000  0.0  \n"
     ]
    }
   ],
   "source": [
    "'''Question 1: Scaler Normalization '''\n",
    "\n",
    "# 1) Min-Max Normlization\n",
    "from sklearn.preprocessing import MinMaxScaler\n",
    "import sklearn.preprocessing as preprocessing\n",
    "\n",
    "numpy_redwine = ten_rows.values \n",
    "min_max_scaler = preprocessing.MinMaxScaler()\n",
    "red_wine_scaled = min_max_scaler.fit_transform(numpy_redwine)\n",
    "df_scaled_redwine = pd.DataFrame(red_wine_scaled)\n",
    "print(df_scaled_redwine)\n"
   ]
  },
  {
   "cell_type": "code",
   "execution_count": 9,
   "metadata": {},
   "outputs": [
    {
     "name": "stdout",
     "output_type": "stream",
     "text": [
      "[[-0.49866241  0.45175298 -0.5634891  -0.32939797 -0.10336228 -0.89666544\n",
      "  -0.62657607  0.73120002  1.27646617 -0.30519553 -0.88083033 -0.62017367]\n",
      " [-0.13599884  1.63023903 -0.5634891   0.20683128  2.17060786  2.40683881\n",
      "   0.76114274 -0.28435556 -1.27646617  0.95768253  0.29361011 -0.62017367]\n",
      " [-0.13599884  0.84458166 -0.34676252 -0.02298125  1.55043418  0.04719292\n",
      "   0.21446563 -0.08124445 -0.78235023  0.64196302  0.29361011 -0.62017367]\n",
      " [ 2.94664152 -2.29804778  2.47068296 -0.32939797 -0.20672456  0.5191221\n",
      "   0.46677815  0.93431113 -1.6058768  -0.09471585  0.29361011  0.62017367]\n",
      " [-0.49866241  0.45175298 -0.5634891  -0.32939797 -0.10336228 -0.89666544\n",
      "  -0.62657607  0.73120002  1.27646617 -0.30519553 -0.88083033 -0.62017367]\n",
      " [-0.49866241  0.1898672  -0.5634891  -0.40600215 -0.20672456 -0.42473626\n",
      "  -0.37426356  0.73120002  1.27646617 -0.30519553 -0.88083033 -0.62017367]\n",
      " [-0.04533295 -0.20296149 -0.23839923 -0.55921051 -0.82689823  0.04719292\n",
      "   0.42472606 -0.69057779 -0.45293961 -1.35759392 -0.88083033 -0.62017367]\n",
      " [-0.5893283   0.12439575 -0.5634891  -0.86562722 -1.24034735  0.04719292\n",
      "  -1.17325318 -2.51857784  0.2882343  -1.25235408  0.88083033  1.86052102]\n",
      " [-0.13599884 -0.33390438 -0.45512581 -0.25279379 -0.41344912 -1.36859462\n",
      "  -1.29940943 -0.28435556  0.04117633 -0.19995569 -0.58722022  1.86052102]\n",
      " [-0.40799652 -0.85767595  1.38705008  2.88797754 -0.62017367  0.5191221\n",
      "   2.23296572  0.73120002 -0.04117633  2.2205606   2.34888088 -0.62017367]]\n"
     ]
    }
   ],
   "source": [
    "# 2) Z - score Normalization\n",
    "print(stats.zscore(numpy_redwine))"
   ]
  },
  {
   "cell_type": "code",
   "execution_count": 10,
   "metadata": {},
   "outputs": [
    {
     "name": "stdout",
     "output_type": "stream",
     "text": [
      "   fixed acidity  volatile acidity  citric acid  residual sugar  chlorides  \\\n",
      "0       1.188017         -5.511983    -6.211983       -4.311983  -6.135983   \n",
      "1      -2.454567         -9.374567   -10.254567       -7.654567 -10.156567   \n",
      "2      -0.508250         -7.548250    -8.268250       -6.008250  -8.216250   \n",
      "3       1.903917         -9.016083    -8.736083       -7.396083  -9.221083   \n",
      "4       1.188017         -5.511983    -6.211983       -4.311983  -6.135983   \n",
      "5       0.533100         -6.206900    -6.866900       -5.066900  -6.791900   \n",
      "6      -0.715450         -8.015450    -8.555450       -7.015450  -8.546450   \n",
      "7       1.710867         -4.939133    -5.589133       -4.389133  -5.524133   \n",
      "8       2.891683         -4.328317    -4.888317       -2.908317  -4.835317   \n",
      "9      -5.348233        -12.348233   -12.488233       -6.748233 -12.777233   \n",
      "\n",
      "   free sulfur dioxide  total sulfur dioxide    density        pH  sulphates  \\\n",
      "0             4.788017             27.788017  -5.214183 -2.701983  -5.651983   \n",
      "1            14.745433             56.745433  -9.257767 -7.054567  -9.574567   \n",
      "2             6.691750             45.691750  -7.311250 -5.048250  -7.658250   \n",
      "3             7.703917             50.703917  -8.298083 -6.136083  -8.716083   \n",
      "4             4.788017             27.788017  -5.214183 -2.701983  -5.651983   \n",
      "5             6.133100             33.133100  -5.869100 -3.356900  -6.306900   \n",
      "6             6.384550             50.384550  -7.619050 -5.315450  -8.155450   \n",
      "7             9.410867             15.410867  -4.594533 -2.199133  -5.119133   \n",
      "8             4.091683             13.091683  -3.911517 -1.548317  -4.338317   \n",
      "9             4.151767             89.151767 -11.850433 -9.498233 -12.048233   \n",
      "\n",
      "    alcohol   quality  \n",
      "0  3.188017 -1.211983  \n",
      "1 -0.454567 -5.254567  \n",
      "2  1.491750 -3.308250  \n",
      "3  0.503917 -3.296083  \n",
      "4  3.188017 -1.211983  \n",
      "5  2.533100 -1.866900  \n",
      "6  0.784550 -3.615450  \n",
      "7  4.410867  1.410867  \n",
      "8  4.591683  2.091683  \n",
      "9 -2.348233 -7.848233  \n"
     ]
    }
   ],
   "source": [
    "# 3) Subtracting mean \n",
    "print(ten_rows.sub(ten_rows.mean(axis=1), axis=0))"
   ]
  },
  {
   "cell_type": "code",
   "execution_count": 15,
   "metadata": {},
   "outputs": [
    {
     "name": "stdout",
     "output_type": "stream",
     "text": [
      "    Farthest  Nearest\n",
      "0  68.404041      0.0\n",
      "1  51.590491      0.0\n",
      "2  48.199803      0.0\n",
      "3  42.907828      0.0\n",
      "4  68.404041      0.0\n",
      "5  62.289232      0.0\n",
      "6  43.299401      0.0\n",
      "7  81.200755      0.0\n",
      "8  84.510798      0.0\n",
      "9  84.510798      0.0\n"
     ]
    }
   ],
   "source": [
    "'''Question 2 Starts here'''\n",
    "# Euclid\n",
    "df_euclid = pd.DataFrame()\n",
    "arr_euclid_dist = []\n",
    "for i in range(0,10):\n",
    "    for j in range(0,10):\n",
    "        arr_euclid_dist.append(((ten_rows.iloc[j, :] - ten_rows.iloc[i, :])**2).sum(axis=0)**0.5)\n",
    "    df_euclid[i] = pd.Series(arr_euclid_dist)\n",
    "    arr_euclid_dist.clear()\n",
    "\n",
    "euclid = pd.DataFrame({'Nearest': pd.Series(df_euclid.min()), 'Farthest': pd.Series(df_euclid.max())})\n",
    "print(euclid)"
   ]
  },
  {
   "cell_type": "code",
   "execution_count": 12,
   "metadata": {},
   "outputs": [
    {
     "name": "stdout",
     "output_type": "stream",
     "text": [
      "    Farthest  Nearest\n",
      "0  68.404041      0.0\n",
      "1  51.590491      0.0\n",
      "2  48.199803      0.0\n",
      "3  42.907828      0.0\n",
      "4  68.404041      0.0\n",
      "5  62.289232      0.0\n",
      "6  43.299401      0.0\n",
      "7  81.200755      0.0\n",
      "8  84.510798      0.0\n",
      "9  84.510798      0.0\n"
     ]
    }
   ],
   "source": [
    "# Manhatten\n",
    "df_manhatten = pd.DataFrame()\n",
    "arr_manhatten_dist = []\n",
    "for i in range(0,10):\n",
    "    for j in range(0,10):\n",
    "        arr_manhatten_dist.append(((ten_rows.iloc[j, :] - ten_rows.iloc[i, :])**2).sum(axis=0)**0.5)\n",
    "    df_manhatten[i] = pd.Series(arr_manhatten_dist)\n",
    "    arr_manhatten_dist.clear()\n",
    "\n",
    "manhatten = pd.DataFrame({'Nearest': pd.Series(df_manhatten.min()), 'Farthest': pd.Series(df_manhatten.max())})\n",
    "print(manhatten)"
   ]
  },
  {
   "cell_type": "code",
   "execution_count": 4,
   "metadata": {},
   "outputs": [
    {
     "name": "stdout",
     "output_type": "stream",
     "text": [
      "   Farthest   Nearest\n",
      "0       1.0  0.948501\n",
      "1       1.0  0.900726\n",
      "2       1.0  0.910999\n",
      "3       1.0  0.913588\n",
      "4       1.0  0.948501\n",
      "5       1.0  0.939243\n",
      "6       1.0  0.897870\n",
      "7       1.0  0.840698\n",
      "8       1.0  0.846399\n",
      "9       1.0  0.840698\n"
     ]
    }
   ],
   "source": [
    "# Cosine \n",
    "arr_cosine_dist = []\n",
    "df_cosine = pd.DataFrame()\n",
    "for i in range(0, 10):\n",
    "    for j in range(0, 10):\n",
    "        arr_cosine_dist.append((ten_rows.iloc[i, :]*ten_rows.iloc[j,:]).sum(axis=0)/(((ten_rows.iloc[i, :]**2).sum(axis=0)**0.5)*((ten_rows.iloc[j, :]**2).sum(axis=0)**0.5)))\n",
    "    df_cosine[i] = pd.Series(arr_cosine_dist)\n",
    "    arr_cosine_dist.clear()\n",
    "\n",
    "cosine = pd.DataFrame({'Nearest': pd.Series(df_cosine.min()), 'Farthest': pd.Series(df_cosine.max())})\n",
    "print(cosine)"
   ]
  },
  {
   "cell_type": "code",
   "execution_count": null,
   "metadata": {},
   "outputs": [],
   "source": []
  }
 ],
 "metadata": {
  "kernelspec": {
   "display_name": "Python 3",
   "language": "python",
   "name": "python3"
  },
  "language_info": {
   "codemirror_mode": {
    "name": "ipython",
    "version": 3
   },
   "file_extension": ".py",
   "mimetype": "text/x-python",
   "name": "python",
   "nbconvert_exporter": "python",
   "pygments_lexer": "ipython3",
   "version": "3.6.4"
  }
 },
 "nbformat": 4,
 "nbformat_minor": 2
}
